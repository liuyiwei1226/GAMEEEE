{
 "cells": [
  {
   "cell_type": "code",
   "execution_count": 1,
   "metadata": {},
   "outputs": [],
   "source": [
    "import pandas as pd\n",
    "import json"
   ]
  },
  {
   "cell_type": "code",
   "execution_count": 26,
   "metadata": {},
   "outputs": [],
   "source": [
    "game_df = pd.read_csv('gamescsv.csv', encoding='latin-1')"
   ]
  },
  {
   "cell_type": "code",
   "execution_count": 29,
   "metadata": {},
   "outputs": [],
   "source": [
    "gameid_list = list(game_df['GAMEID'])"
   ]
  },
  {
   "cell_type": "code",
   "execution_count": 32,
   "metadata": {},
   "outputs": [
    {
     "data": {
      "text/plain": [
       "12788"
      ]
     },
     "execution_count": 32,
     "metadata": {},
     "output_type": "execute_result"
    }
   ],
   "source": [
    "len(gameid_list)"
   ]
  },
  {
   "cell_type": "code",
   "execution_count": 2,
   "metadata": {},
   "outputs": [],
   "source": [
    "game_info_df = pd.read_csv('games-features.csv')"
   ]
  },
  {
   "cell_type": "code",
   "execution_count": 3,
   "metadata": {},
   "outputs": [
    {
     "data": {
      "text/plain": [
       "(13357, 78)"
      ]
     },
     "execution_count": 3,
     "metadata": {},
     "output_type": "execute_result"
    }
   ],
   "source": [
    "game_info_df.shape"
   ]
  },
  {
   "cell_type": "code",
   "execution_count": 2,
   "metadata": {},
   "outputs": [],
   "source": [
    "review_df = pd.read_csv('steam.csv', names=['game_id', 'review', 'sentiment', 'helpful_review'])"
   ]
  },
  {
   "cell_type": "code",
   "execution_count": 3,
   "metadata": {},
   "outputs": [
    {
     "ename": "ValueError",
     "evalue": "cannot index with vector containing NA / NaN values",
     "output_type": "error",
     "traceback": [
      "\u001b[1;31m---------------------------------------------------------------------------\u001b[0m",
      "\u001b[1;31mValueError\u001b[0m                                Traceback (most recent call last)",
      "\u001b[1;32m<ipython-input-3-04125a7763b9>\u001b[0m in \u001b[0;36m<module>\u001b[1;34m()\u001b[0m\n\u001b[1;32m----> 1\u001b[1;33m \u001b[0mreview_df\u001b[0m\u001b[1;33m[\u001b[0m\u001b[0mreview_df\u001b[0m\u001b[1;33m[\u001b[0m\u001b[1;34m'review'\u001b[0m\u001b[1;33m]\u001b[0m\u001b[1;33m.\u001b[0m\u001b[0mstr\u001b[0m\u001b[1;33m.\u001b[0m\u001b[0mcontains\u001b[0m\u001b[1;33m(\u001b[0m\u001b[1;34m\"￥\"\u001b[0m\u001b[1;33m)\u001b[0m\u001b[1;33m]\u001b[0m\u001b[1;33m\u001b[0m\u001b[0m\n\u001b[0m",
      "\u001b[1;32m~\\Anaconda3\\lib\\site-packages\\pandas\\core\\frame.py\u001b[0m in \u001b[0;36m__getitem__\u001b[1;34m(self, key)\u001b[0m\n\u001b[0;32m   2677\u001b[0m         \u001b[1;32mif\u001b[0m \u001b[0misinstance\u001b[0m\u001b[1;33m(\u001b[0m\u001b[0mkey\u001b[0m\u001b[1;33m,\u001b[0m \u001b[1;33m(\u001b[0m\u001b[0mSeries\u001b[0m\u001b[1;33m,\u001b[0m \u001b[0mnp\u001b[0m\u001b[1;33m.\u001b[0m\u001b[0mndarray\u001b[0m\u001b[1;33m,\u001b[0m \u001b[0mIndex\u001b[0m\u001b[1;33m,\u001b[0m \u001b[0mlist\u001b[0m\u001b[1;33m)\u001b[0m\u001b[1;33m)\u001b[0m\u001b[1;33m:\u001b[0m\u001b[1;33m\u001b[0m\u001b[0m\n\u001b[0;32m   2678\u001b[0m             \u001b[1;31m# either boolean or fancy integer index\u001b[0m\u001b[1;33m\u001b[0m\u001b[1;33m\u001b[0m\u001b[0m\n\u001b[1;32m-> 2679\u001b[1;33m             \u001b[1;32mreturn\u001b[0m \u001b[0mself\u001b[0m\u001b[1;33m.\u001b[0m\u001b[0m_getitem_array\u001b[0m\u001b[1;33m(\u001b[0m\u001b[0mkey\u001b[0m\u001b[1;33m)\u001b[0m\u001b[1;33m\u001b[0m\u001b[0m\n\u001b[0m\u001b[0;32m   2680\u001b[0m         \u001b[1;32melif\u001b[0m \u001b[0misinstance\u001b[0m\u001b[1;33m(\u001b[0m\u001b[0mkey\u001b[0m\u001b[1;33m,\u001b[0m \u001b[0mDataFrame\u001b[0m\u001b[1;33m)\u001b[0m\u001b[1;33m:\u001b[0m\u001b[1;33m\u001b[0m\u001b[0m\n\u001b[0;32m   2681\u001b[0m             \u001b[1;32mreturn\u001b[0m \u001b[0mself\u001b[0m\u001b[1;33m.\u001b[0m\u001b[0m_getitem_frame\u001b[0m\u001b[1;33m(\u001b[0m\u001b[0mkey\u001b[0m\u001b[1;33m)\u001b[0m\u001b[1;33m\u001b[0m\u001b[0m\n",
      "\u001b[1;32m~\\Anaconda3\\lib\\site-packages\\pandas\\core\\frame.py\u001b[0m in \u001b[0;36m_getitem_array\u001b[1;34m(self, key)\u001b[0m\n\u001b[0;32m   2704\u001b[0m     \u001b[1;32mdef\u001b[0m \u001b[0m_getitem_array\u001b[0m\u001b[1;33m(\u001b[0m\u001b[0mself\u001b[0m\u001b[1;33m,\u001b[0m \u001b[0mkey\u001b[0m\u001b[1;33m)\u001b[0m\u001b[1;33m:\u001b[0m\u001b[1;33m\u001b[0m\u001b[0m\n\u001b[0;32m   2705\u001b[0m         \u001b[1;31m# also raises Exception if object array with NA values\u001b[0m\u001b[1;33m\u001b[0m\u001b[1;33m\u001b[0m\u001b[0m\n\u001b[1;32m-> 2706\u001b[1;33m         \u001b[1;32mif\u001b[0m \u001b[0mcom\u001b[0m\u001b[1;33m.\u001b[0m\u001b[0mis_bool_indexer\u001b[0m\u001b[1;33m(\u001b[0m\u001b[0mkey\u001b[0m\u001b[1;33m)\u001b[0m\u001b[1;33m:\u001b[0m\u001b[1;33m\u001b[0m\u001b[0m\n\u001b[0m\u001b[0;32m   2707\u001b[0m             \u001b[1;31m# warning here just in case -- previously __setitem__ was\u001b[0m\u001b[1;33m\u001b[0m\u001b[1;33m\u001b[0m\u001b[0m\n\u001b[0;32m   2708\u001b[0m             \u001b[1;31m# reindexing but __getitem__ was not; it seems more reasonable to\u001b[0m\u001b[1;33m\u001b[0m\u001b[1;33m\u001b[0m\u001b[0m\n",
      "\u001b[1;32m~\\Anaconda3\\lib\\site-packages\\pandas\\core\\common.py\u001b[0m in \u001b[0;36mis_bool_indexer\u001b[1;34m(key)\u001b[0m\n\u001b[0;32m    102\u001b[0m             \u001b[1;32mif\u001b[0m \u001b[1;32mnot\u001b[0m \u001b[0mlib\u001b[0m\u001b[1;33m.\u001b[0m\u001b[0mis_bool_array\u001b[0m\u001b[1;33m(\u001b[0m\u001b[0mkey\u001b[0m\u001b[1;33m)\u001b[0m\u001b[1;33m:\u001b[0m\u001b[1;33m\u001b[0m\u001b[0m\n\u001b[0;32m    103\u001b[0m                 \u001b[1;32mif\u001b[0m \u001b[0misna\u001b[0m\u001b[1;33m(\u001b[0m\u001b[0mkey\u001b[0m\u001b[1;33m)\u001b[0m\u001b[1;33m.\u001b[0m\u001b[0many\u001b[0m\u001b[1;33m(\u001b[0m\u001b[1;33m)\u001b[0m\u001b[1;33m:\u001b[0m\u001b[1;33m\u001b[0m\u001b[0m\n\u001b[1;32m--> 104\u001b[1;33m                     raise ValueError('cannot index with vector containing '\n\u001b[0m\u001b[0;32m    105\u001b[0m                                      'NA / NaN values')\n\u001b[0;32m    106\u001b[0m                 \u001b[1;32mreturn\u001b[0m \u001b[1;32mFalse\u001b[0m\u001b[1;33m\u001b[0m\u001b[0m\n",
      "\u001b[1;31mValueError\u001b[0m: cannot index with vector containing NA / NaN values"
     ]
    }
   ],
   "source": [
    "review_df[review_df['review'].str.contains(\"￥\")]"
   ]
  },
  {
   "cell_type": "code",
   "execution_count": 8,
   "metadata": {},
   "outputs": [
    {
     "data": {
      "text/plain": [
       "(6417106, 4)"
      ]
     },
     "execution_count": 8,
     "metadata": {},
     "output_type": "execute_result"
    }
   ],
   "source": [
    "review_df.shape"
   ]
  },
  {
   "cell_type": "code",
   "execution_count": 4,
   "metadata": {},
   "outputs": [],
   "source": [
    "user_df = pd.read_csv('steam-200k.csv', usecols = [0,1,2,3] ,names = ['user_id', 'game_name', 'purchase', 'play_hours'])"
   ]
  },
  {
   "cell_type": "code",
   "execution_count": 5,
   "metadata": {},
   "outputs": [
    {
     "data": {
      "text/html": [
       "<div>\n",
       "<style scoped>\n",
       "    .dataframe tbody tr th:only-of-type {\n",
       "        vertical-align: middle;\n",
       "    }\n",
       "\n",
       "    .dataframe tbody tr th {\n",
       "        vertical-align: top;\n",
       "    }\n",
       "\n",
       "    .dataframe thead th {\n",
       "        text-align: right;\n",
       "    }\n",
       "</style>\n",
       "<table border=\"1\" class=\"dataframe\">\n",
       "  <thead>\n",
       "    <tr style=\"text-align: right;\">\n",
       "      <th></th>\n",
       "      <th>user_id</th>\n",
       "      <th>game_name</th>\n",
       "      <th>purchase</th>\n",
       "      <th>play_hours</th>\n",
       "    </tr>\n",
       "  </thead>\n",
       "  <tbody>\n",
       "    <tr>\n",
       "      <th>0</th>\n",
       "      <td>151603712</td>\n",
       "      <td>The Elder Scrolls V Skyrim</td>\n",
       "      <td>purchase</td>\n",
       "      <td>1.0</td>\n",
       "    </tr>\n",
       "    <tr>\n",
       "      <th>1</th>\n",
       "      <td>151603712</td>\n",
       "      <td>The Elder Scrolls V Skyrim</td>\n",
       "      <td>play</td>\n",
       "      <td>273.0</td>\n",
       "    </tr>\n",
       "    <tr>\n",
       "      <th>2</th>\n",
       "      <td>151603712</td>\n",
       "      <td>Fallout 4</td>\n",
       "      <td>purchase</td>\n",
       "      <td>1.0</td>\n",
       "    </tr>\n",
       "    <tr>\n",
       "      <th>3</th>\n",
       "      <td>151603712</td>\n",
       "      <td>Fallout 4</td>\n",
       "      <td>play</td>\n",
       "      <td>87.0</td>\n",
       "    </tr>\n",
       "    <tr>\n",
       "      <th>4</th>\n",
       "      <td>151603712</td>\n",
       "      <td>Spore</td>\n",
       "      <td>purchase</td>\n",
       "      <td>1.0</td>\n",
       "    </tr>\n",
       "  </tbody>\n",
       "</table>\n",
       "</div>"
      ],
      "text/plain": [
       "     user_id                   game_name  purchase  play_hours\n",
       "0  151603712  The Elder Scrolls V Skyrim  purchase         1.0\n",
       "1  151603712  The Elder Scrolls V Skyrim      play       273.0\n",
       "2  151603712                   Fallout 4  purchase         1.0\n",
       "3  151603712                   Fallout 4      play        87.0\n",
       "4  151603712                       Spore  purchase         1.0"
      ]
     },
     "execution_count": 5,
     "metadata": {},
     "output_type": "execute_result"
    }
   ],
   "source": [
    "user_df.head()"
   ]
  },
  {
   "cell_type": "code",
   "execution_count": 6,
   "metadata": {},
   "outputs": [
    {
     "data": {
      "text/plain": [
       "(200000, 4)"
      ]
     },
     "execution_count": 6,
     "metadata": {},
     "output_type": "execute_result"
    }
   ],
   "source": [
    "user_df.shape"
   ]
  },
  {
   "cell_type": "code",
   "execution_count": 3,
   "metadata": {},
   "outputs": [],
   "source": [
    "game_info_dic1 = []\n",
    "with open('games.json') as f:\n",
    "    for line in f:\n",
    "        game_info_dic1.append(json.loads(line))"
   ]
  },
  {
   "cell_type": "code",
   "execution_count": 4,
   "metadata": {},
   "outputs": [
    {
     "data": {
      "text/plain": [
       "34059"
      ]
     },
     "execution_count": 4,
     "metadata": {},
     "output_type": "execute_result"
    }
   ],
   "source": [
    "len(game_info_dic1)"
   ]
  },
  {
   "cell_type": "code",
   "execution_count": 33,
   "metadata": {},
   "outputs": [],
   "source": [
    "game_info = []\n",
    "for items in game_info_dic1:\n",
    "    if items['query_appid'] in gameid_list:\n",
    "        game_info.append(items)\n",
    "        gameid_list.remove(items['query_appid'])\n",
    "    "
   ]
  },
  {
   "cell_type": "code",
   "execution_count": 36,
   "metadata": {},
   "outputs": [
    {
     "data": {
      "text/plain": [
       "12788"
      ]
     },
     "execution_count": 36,
     "metadata": {},
     "output_type": "execute_result"
    }
   ],
   "source": [
    "len(game_info)"
   ]
  },
  {
   "cell_type": "code",
   "execution_count": null,
   "metadata": {},
   "outputs": [],
   "source": [
    "game_info"
   ]
  },
  {
   "cell_type": "code",
   "execution_count": null,
   "metadata": {},
   "outputs": [],
   "source": [
    "game_info_dic1"
   ]
  },
  {
   "cell_type": "code",
   "execution_count": 37,
   "metadata": {},
   "outputs": [],
   "source": [
    "with open('games_new_cleaned_final.json', 'w') as outfile:\n",
    "    json.dump(game_info, outfile)"
   ]
  },
  {
   "cell_type": "code",
   "execution_count": 14,
   "metadata": {},
   "outputs": [],
   "source": [
    "with open('steamspy.json') as f:\n",
    "    game_info_dic2 = json.load(f)"
   ]
  },
  {
   "cell_type": "code",
   "execution_count": 15,
   "metadata": {},
   "outputs": [
    {
     "data": {
      "text/plain": [
       "{'appid': 570,\n",
       " 'name': 'Dota 2',\n",
       " 'developer': 'Valve',\n",
       " 'publisher': 'Valve',\n",
       " 'score_rank': 76,\n",
       " 'owners': 90687580,\n",
       " 'owners_variance': 215972,\n",
       " 'players_forever': 90687580,\n",
       " 'players_forever_variance': 215972,\n",
       " 'players_2weeks': 10658208,\n",
       " 'players_2weeks_variance': 84193,\n",
       " 'average_forever': 11905,\n",
       " 'average_2weeks': 1191,\n",
       " 'median_forever': 298,\n",
       " 'median_2weeks': 658,\n",
       " 'ccu': 862031,\n",
       " 'price': '0'}"
      ]
     },
     "execution_count": 15,
     "metadata": {},
     "output_type": "execute_result"
    }
   ],
   "source": [
    "game_info_dic2['570']"
   ]
  },
  {
   "cell_type": "code",
   "execution_count": 16,
   "metadata": {},
   "outputs": [
    {
     "data": {
      "text/plain": [
       "Index(['QueryID', 'ResponseID', 'QueryName', 'ResponseName', 'ReleaseDate',\n",
       "       'RequiredAge', 'DemoCount', 'DeveloperCount', 'DLCCount', 'Metacritic',\n",
       "       'MovieCount', 'PackageCount', 'RecommendationCount', 'PublisherCount',\n",
       "       'ScreenshotCount', 'SteamSpyOwners', 'SteamSpyOwnersVariance',\n",
       "       'SteamSpyPlayersEstimate', 'SteamSpyPlayersVariance',\n",
       "       'AchievementCount', 'AchievementHighlightedCount', 'ControllerSupport',\n",
       "       'IsFree', 'FreeVerAvail', 'PurchaseAvail', 'SubscriptionAvail',\n",
       "       'PlatformWindows', 'PlatformLinux', 'PlatformMac', 'PCReqsHaveMin',\n",
       "       'PCReqsHaveRec', 'LinuxReqsHaveMin', 'LinuxReqsHaveRec',\n",
       "       'MacReqsHaveMin', 'MacReqsHaveRec', 'CategorySinglePlayer',\n",
       "       'CategoryMultiplayer', 'CategoryCoop', 'CategoryMMO',\n",
       "       'CategoryInAppPurchase', 'CategoryIncludeSrcSDK',\n",
       "       'CategoryIncludeLevelEditor', 'CategoryVRSupport', 'GenreIsNonGame',\n",
       "       'GenreIsIndie', 'GenreIsAction', 'GenreIsAdventure', 'GenreIsCasual',\n",
       "       'GenreIsStrategy', 'GenreIsRPG', 'GenreIsSimulation',\n",
       "       'GenreIsEarlyAccess', 'GenreIsFreeToPlay', 'GenreIsSports',\n",
       "       'GenreIsRacing', 'GenreIsMassivelyMultiplayer', 'PriceCurrency',\n",
       "       'PriceInitial', 'PriceFinal', 'SupportEmail', 'SupportURL', 'AboutText',\n",
       "       'Background', 'ShortDescrip', 'DetailedDescrip', 'DRMNotice',\n",
       "       'ExtUserAcctNotice', 'HeaderImage', 'LegalNotice', 'Reviews',\n",
       "       'SupportedLanguages', 'Website', 'PCMinReqsText', 'PCRecReqsText',\n",
       "       'LinuxMinReqsText', 'LinuxRecReqsText', 'MacMinReqsText',\n",
       "       'MacRecReqsText'],\n",
       "      dtype='object')"
      ]
     },
     "execution_count": 16,
     "metadata": {},
     "output_type": "execute_result"
    }
   ],
   "source": [
    "game_info_df.columns"
   ]
  },
  {
   "cell_type": "code",
   "execution_count": 10,
   "metadata": {},
   "outputs": [],
   "source": [
    "game_df = game_info_df[['QueryID', 'QueryName', 'ReleaseDate', 'RequiredAge', 'Metacritic', 'RecommendationCount',\n",
    "                        'SteamSpyPlayersEstimate', 'PriceCurrency', 'PriceInitial', 'PriceFinal', 'SupportURL',\n",
    "                        'AboutText', 'Background', 'HeaderImage']]"
   ]
  },
  {
   "cell_type": "code",
   "execution_count": 11,
   "metadata": {},
   "outputs": [
    {
     "data": {
      "text/plain": [
       "QueryID                      int64\n",
       "QueryName                   object\n",
       "ReleaseDate                 object\n",
       "RequiredAge                  int64\n",
       "Metacritic                   int64\n",
       "RecommendationCount          int64\n",
       "SteamSpyPlayersEstimate      int64\n",
       "PriceCurrency               object\n",
       "PriceInitial               float64\n",
       "PriceFinal                 float64\n",
       "SupportURL                  object\n",
       "AboutText                   object\n",
       "Background                  object\n",
       "HeaderImage                 object\n",
       "dtype: object"
      ]
     },
     "execution_count": 11,
     "metadata": {},
     "output_type": "execute_result"
    }
   ],
   "source": [
    "game_df.dtypes"
   ]
  },
  {
   "cell_type": "code",
   "execution_count": 12,
   "metadata": {},
   "outputs": [
    {
     "name": "stderr",
     "output_type": "stream",
     "text": [
      "C:\\Users\\liuyi\\Anaconda3\\lib\\site-packages\\pandas\\core\\indexing.py:543: SettingWithCopyWarning: \n",
      "A value is trying to be set on a copy of a slice from a DataFrame.\n",
      "Try using .loc[row_indexer,col_indexer] = value instead\n",
      "\n",
      "See the caveats in the documentation: http://pandas.pydata.org/pandas-docs/stable/indexing.html#indexing-view-versus-copy\n",
      "  self.obj[item] = s\n"
     ]
    }
   ],
   "source": [
    "game_df.loc[:,'ReleaseDate'] = pd.to_datetime(game_df['ReleaseDate'], errors = 'coerce')\n",
    "game_df = game_df.rename(columns = {'QueryID':'GameID', 'QueryName': 'Name', 'Metacritic':'Rating'})"
   ]
  },
  {
   "cell_type": "code",
   "execution_count": 13,
   "metadata": {},
   "outputs": [
    {
     "data": {
      "text/plain": [
       "GameID                     False\n",
       "Name                        True\n",
       "ReleaseDate                 True\n",
       "RequiredAge                False\n",
       "Rating                     False\n",
       "RecommendationCount        False\n",
       "SteamSpyPlayersEstimate    False\n",
       "PriceCurrency              False\n",
       "PriceInitial               False\n",
       "PriceFinal                 False\n",
       "SupportURL                  True\n",
       "AboutText                  False\n",
       "Background                 False\n",
       "HeaderImage                False\n",
       "dtype: bool"
      ]
     },
     "execution_count": 13,
     "metadata": {},
     "output_type": "execute_result"
    }
   ],
   "source": [
    "game_df.isnull().any()"
   ]
  },
  {
   "cell_type": "code",
   "execution_count": 16,
   "metadata": {},
   "outputs": [
    {
     "data": {
      "text/plain": [
       "GameID                     False\n",
       "Name                       False\n",
       "ReleaseDate                 True\n",
       "RequiredAge                False\n",
       "Rating                     False\n",
       "RecommendationCount        False\n",
       "SteamSpyPlayersEstimate    False\n",
       "PriceCurrency              False\n",
       "PriceInitial               False\n",
       "PriceFinal                 False\n",
       "SupportURL                  True\n",
       "AboutText                  False\n",
       "Background                 False\n",
       "HeaderImage                False\n",
       "dtype: bool"
      ]
     },
     "execution_count": 16,
     "metadata": {},
     "output_type": "execute_result"
    }
   ],
   "source": [
    "game_df = game_df.dropna(subset = ['Name'])\n",
    "game_df.isnull().any()"
   ]
  },
  {
   "cell_type": "code",
   "execution_count": 17,
   "metadata": {},
   "outputs": [
    {
     "data": {
      "text/plain": [
       "(13356, 14)"
      ]
     },
     "execution_count": 17,
     "metadata": {},
     "output_type": "execute_result"
    }
   ],
   "source": [
    "game_df.shape"
   ]
  },
  {
   "cell_type": "code",
   "execution_count": 18,
   "metadata": {},
   "outputs": [
    {
     "ename": "NameError",
     "evalue": "name 'review_df' is not defined",
     "output_type": "error",
     "traceback": [
      "\u001b[1;31m---------------------------------------------------------------------------\u001b[0m",
      "\u001b[1;31mNameError\u001b[0m                                 Traceback (most recent call last)",
      "\u001b[1;32m<ipython-input-18-65a5553a9742>\u001b[0m in \u001b[0;36m<module>\u001b[1;34m()\u001b[0m\n\u001b[1;32m----> 1\u001b[1;33m \u001b[0mreview_df\u001b[0m\u001b[1;33m.\u001b[0m\u001b[0misnull\u001b[0m\u001b[1;33m(\u001b[0m\u001b[1;33m)\u001b[0m\u001b[1;33m.\u001b[0m\u001b[0many\u001b[0m\u001b[1;33m(\u001b[0m\u001b[1;33m)\u001b[0m\u001b[1;33m\u001b[0m\u001b[0m\n\u001b[0m",
      "\u001b[1;31mNameError\u001b[0m: name 'review_df' is not defined"
     ]
    }
   ],
   "source": [
    "review_df.isnull().any()"
   ]
  },
  {
   "cell_type": "code",
   "execution_count": 24,
   "metadata": {},
   "outputs": [
    {
     "data": {
      "text/plain": [
       "game_id           False\n",
       "review            False\n",
       "sentiment         False\n",
       "helpful_review    False\n",
       "dtype: bool"
      ]
     },
     "execution_count": 24,
     "metadata": {},
     "output_type": "execute_result"
    }
   ],
   "source": [
    "review_df = review_df.dropna(subset = ['review'])\n",
    "review_df.isnull().any()"
   ]
  },
  {
   "cell_type": "code",
   "execution_count": 25,
   "metadata": {},
   "outputs": [
    {
     "data": {
      "text/plain": [
       "game_id            int64\n",
       "review            object\n",
       "sentiment          int64\n",
       "helpful_review     int64\n",
       "dtype: object"
      ]
     },
     "execution_count": 25,
     "metadata": {},
     "output_type": "execute_result"
    }
   ],
   "source": [
    "review_df.dtypes"
   ]
  },
  {
   "cell_type": "code",
   "execution_count": 7,
   "metadata": {},
   "outputs": [
    {
     "data": {
      "text/plain": [
       "user_id         int64\n",
       "game_name      object\n",
       "purchase       object\n",
       "play_hours    float64\n",
       "dtype: object"
      ]
     },
     "execution_count": 7,
     "metadata": {},
     "output_type": "execute_result"
    }
   ],
   "source": [
    "user_df.dtypes"
   ]
  },
  {
   "cell_type": "code",
   "execution_count": 8,
   "metadata": {},
   "outputs": [
    {
     "data": {
      "text/plain": [
       "user_id       False\n",
       "game_name     False\n",
       "purchase      False\n",
       "play_hours    False\n",
       "dtype: bool"
      ]
     },
     "execution_count": 8,
     "metadata": {},
     "output_type": "execute_result"
    }
   ],
   "source": [
    "user_df.isnull().any()"
   ]
  },
  {
   "cell_type": "code",
   "execution_count": 19,
   "metadata": {},
   "outputs": [],
   "source": [
    "game_df = game_df.drop_duplicates(subset = ['GameID'])"
   ]
  },
  {
   "cell_type": "code",
   "execution_count": 92,
   "metadata": {},
   "outputs": [],
   "source": [
    "review_df = review_df.reset_index().rename(columns = {'index': 'review_id'})"
   ]
  },
  {
   "cell_type": "code",
   "execution_count": 20,
   "metadata": {},
   "outputs": [
    {
     "data": {
      "text/plain": [
       "(123632, 6)"
      ]
     },
     "execution_count": 20,
     "metadata": {},
     "output_type": "execute_result"
    }
   ],
   "source": [
    "new_user_df = user_df.merge(game_df, left_on = 'game_name', right_on = 'Name')[['GameID','Name', 'user_id', 'game_name', 'purchase', 'play_hours']]\n",
    "new_user_df.shape"
   ]
  },
  {
   "cell_type": "code",
   "execution_count": 25,
   "metadata": {},
   "outputs": [],
   "source": [
    "new_user_df_2 = new_user_df.groupby(['GameID','game_name','user_id'])['play_hours'].max().reset_index()"
   ]
  },
  {
   "cell_type": "code",
   "execution_count": 22,
   "metadata": {},
   "outputs": [],
   "source": [
    "# new_user_df_3 = user_df.groupby(['user_id','game_name'])['play_hours'].max()"
   ]
  },
  {
   "cell_type": "code",
   "execution_count": 23,
   "metadata": {},
   "outputs": [
    {
     "data": {
      "text/plain": [
       "Index(['user_id', 'game_name', 'purchase', 'play_hours'], dtype='object')"
      ]
     },
     "execution_count": 23,
     "metadata": {},
     "output_type": "execute_result"
    }
   ],
   "source": [
    "user_df.columns"
   ]
  },
  {
   "cell_type": "code",
   "execution_count": 45,
   "metadata": {},
   "outputs": [],
   "source": [
    "new_user_df_2['purchase'] = 'purchase'\n",
    "# new_user_df_2[new_user_df_2['play_hours'] == 1]['purchase'] = 'purchase'\n",
    "new_user_df_2.loc[new_user_df_2['play_hours'] != 1, 'purchase'] = 'play'"
   ]
  },
  {
   "cell_type": "code",
   "execution_count": 46,
   "metadata": {},
   "outputs": [
    {
     "data": {
      "text/html": [
       "<div>\n",
       "<style scoped>\n",
       "    .dataframe tbody tr th:only-of-type {\n",
       "        vertical-align: middle;\n",
       "    }\n",
       "\n",
       "    .dataframe tbody tr th {\n",
       "        vertical-align: top;\n",
       "    }\n",
       "\n",
       "    .dataframe thead th {\n",
       "        text-align: right;\n",
       "    }\n",
       "</style>\n",
       "<table border=\"1\" class=\"dataframe\">\n",
       "  <thead>\n",
       "    <tr style=\"text-align: right;\">\n",
       "      <th></th>\n",
       "      <th>GameID</th>\n",
       "      <th>game_name</th>\n",
       "      <th>user_id</th>\n",
       "      <th>play_hours</th>\n",
       "      <th>purchase</th>\n",
       "    </tr>\n",
       "  </thead>\n",
       "  <tbody>\n",
       "    <tr>\n",
       "      <th>0</th>\n",
       "      <td>10</td>\n",
       "      <td>Counter-Strike</td>\n",
       "      <td>5250</td>\n",
       "      <td>1.0</td>\n",
       "      <td>purchase</td>\n",
       "    </tr>\n",
       "    <tr>\n",
       "      <th>1</th>\n",
       "      <td>10</td>\n",
       "      <td>Counter-Strike</td>\n",
       "      <td>76767</td>\n",
       "      <td>365.0</td>\n",
       "      <td>play</td>\n",
       "    </tr>\n",
       "    <tr>\n",
       "      <th>2</th>\n",
       "      <td>10</td>\n",
       "      <td>Counter-Strike</td>\n",
       "      <td>86540</td>\n",
       "      <td>1.0</td>\n",
       "      <td>purchase</td>\n",
       "    </tr>\n",
       "    <tr>\n",
       "      <th>3</th>\n",
       "      <td>10</td>\n",
       "      <td>Counter-Strike</td>\n",
       "      <td>103360</td>\n",
       "      <td>1.0</td>\n",
       "      <td>purchase</td>\n",
       "    </tr>\n",
       "    <tr>\n",
       "      <th>4</th>\n",
       "      <td>10</td>\n",
       "      <td>Counter-Strike</td>\n",
       "      <td>144736</td>\n",
       "      <td>1.0</td>\n",
       "      <td>purchase</td>\n",
       "    </tr>\n",
       "    <tr>\n",
       "      <th>5</th>\n",
       "      <td>10</td>\n",
       "      <td>Counter-Strike</td>\n",
       "      <td>181212</td>\n",
       "      <td>1.8</td>\n",
       "      <td>play</td>\n",
       "    </tr>\n",
       "    <tr>\n",
       "      <th>6</th>\n",
       "      <td>10</td>\n",
       "      <td>Counter-Strike</td>\n",
       "      <td>229911</td>\n",
       "      <td>45.0</td>\n",
       "      <td>play</td>\n",
       "    </tr>\n",
       "    <tr>\n",
       "      <th>7</th>\n",
       "      <td>10</td>\n",
       "      <td>Counter-Strike</td>\n",
       "      <td>298950</td>\n",
       "      <td>1.0</td>\n",
       "      <td>purchase</td>\n",
       "    </tr>\n",
       "    <tr>\n",
       "      <th>8</th>\n",
       "      <td>10</td>\n",
       "      <td>Counter-Strike</td>\n",
       "      <td>299153</td>\n",
       "      <td>1.0</td>\n",
       "      <td>purchase</td>\n",
       "    </tr>\n",
       "    <tr>\n",
       "      <th>9</th>\n",
       "      <td>10</td>\n",
       "      <td>Counter-Strike</td>\n",
       "      <td>381543</td>\n",
       "      <td>3.0</td>\n",
       "      <td>play</td>\n",
       "    </tr>\n",
       "    <tr>\n",
       "      <th>10</th>\n",
       "      <td>10</td>\n",
       "      <td>Counter-Strike</td>\n",
       "      <td>547685</td>\n",
       "      <td>22.0</td>\n",
       "      <td>play</td>\n",
       "    </tr>\n",
       "    <tr>\n",
       "      <th>11</th>\n",
       "      <td>10</td>\n",
       "      <td>Counter-Strike</td>\n",
       "      <td>554278</td>\n",
       "      <td>1.0</td>\n",
       "      <td>purchase</td>\n",
       "    </tr>\n",
       "    <tr>\n",
       "      <th>12</th>\n",
       "      <td>10</td>\n",
       "      <td>Counter-Strike</td>\n",
       "      <td>561758</td>\n",
       "      <td>1.0</td>\n",
       "      <td>purchase</td>\n",
       "    </tr>\n",
       "    <tr>\n",
       "      <th>13</th>\n",
       "      <td>10</td>\n",
       "      <td>Counter-Strike</td>\n",
       "      <td>577614</td>\n",
       "      <td>36.0</td>\n",
       "      <td>play</td>\n",
       "    </tr>\n",
       "    <tr>\n",
       "      <th>14</th>\n",
       "      <td>10</td>\n",
       "      <td>Counter-Strike</td>\n",
       "      <td>604988</td>\n",
       "      <td>1.0</td>\n",
       "      <td>purchase</td>\n",
       "    </tr>\n",
       "    <tr>\n",
       "      <th>15</th>\n",
       "      <td>10</td>\n",
       "      <td>Counter-Strike</td>\n",
       "      <td>622362</td>\n",
       "      <td>22.0</td>\n",
       "      <td>play</td>\n",
       "    </tr>\n",
       "    <tr>\n",
       "      <th>16</th>\n",
       "      <td>10</td>\n",
       "      <td>Counter-Strike</td>\n",
       "      <td>635733</td>\n",
       "      <td>1.0</td>\n",
       "      <td>purchase</td>\n",
       "    </tr>\n",
       "    <tr>\n",
       "      <th>17</th>\n",
       "      <td>10</td>\n",
       "      <td>Counter-Strike</td>\n",
       "      <td>683019</td>\n",
       "      <td>1.0</td>\n",
       "      <td>purchase</td>\n",
       "    </tr>\n",
       "    <tr>\n",
       "      <th>18</th>\n",
       "      <td>10</td>\n",
       "      <td>Counter-Strike</td>\n",
       "      <td>714122</td>\n",
       "      <td>1.0</td>\n",
       "      <td>purchase</td>\n",
       "    </tr>\n",
       "    <tr>\n",
       "      <th>19</th>\n",
       "      <td>10</td>\n",
       "      <td>Counter-Strike</td>\n",
       "      <td>748719</td>\n",
       "      <td>13.6</td>\n",
       "      <td>play</td>\n",
       "    </tr>\n",
       "    <tr>\n",
       "      <th>20</th>\n",
       "      <td>10</td>\n",
       "      <td>Counter-Strike</td>\n",
       "      <td>835015</td>\n",
       "      <td>1.0</td>\n",
       "      <td>purchase</td>\n",
       "    </tr>\n",
       "    <tr>\n",
       "      <th>21</th>\n",
       "      <td>10</td>\n",
       "      <td>Counter-Strike</td>\n",
       "      <td>861238</td>\n",
       "      <td>1.0</td>\n",
       "      <td>purchase</td>\n",
       "    </tr>\n",
       "    <tr>\n",
       "      <th>22</th>\n",
       "      <td>10</td>\n",
       "      <td>Counter-Strike</td>\n",
       "      <td>871990</td>\n",
       "      <td>3.0</td>\n",
       "      <td>play</td>\n",
       "    </tr>\n",
       "    <tr>\n",
       "      <th>23</th>\n",
       "      <td>10</td>\n",
       "      <td>Counter-Strike</td>\n",
       "      <td>937567</td>\n",
       "      <td>1.0</td>\n",
       "      <td>purchase</td>\n",
       "    </tr>\n",
       "    <tr>\n",
       "      <th>24</th>\n",
       "      <td>10</td>\n",
       "      <td>Counter-Strike</td>\n",
       "      <td>948368</td>\n",
       "      <td>5.2</td>\n",
       "      <td>play</td>\n",
       "    </tr>\n",
       "    <tr>\n",
       "      <th>25</th>\n",
       "      <td>10</td>\n",
       "      <td>Counter-Strike</td>\n",
       "      <td>975449</td>\n",
       "      <td>1.0</td>\n",
       "      <td>purchase</td>\n",
       "    </tr>\n",
       "    <tr>\n",
       "      <th>26</th>\n",
       "      <td>10</td>\n",
       "      <td>Counter-Strike</td>\n",
       "      <td>976129</td>\n",
       "      <td>1.0</td>\n",
       "      <td>purchase</td>\n",
       "    </tr>\n",
       "    <tr>\n",
       "      <th>27</th>\n",
       "      <td>10</td>\n",
       "      <td>Counter-Strike</td>\n",
       "      <td>983600</td>\n",
       "      <td>1.0</td>\n",
       "      <td>purchase</td>\n",
       "    </tr>\n",
       "    <tr>\n",
       "      <th>28</th>\n",
       "      <td>10</td>\n",
       "      <td>Counter-Strike</td>\n",
       "      <td>994489</td>\n",
       "      <td>1087.0</td>\n",
       "      <td>play</td>\n",
       "    </tr>\n",
       "    <tr>\n",
       "      <th>29</th>\n",
       "      <td>10</td>\n",
       "      <td>Counter-Strike</td>\n",
       "      <td>1006880</td>\n",
       "      <td>1.0</td>\n",
       "      <td>purchase</td>\n",
       "    </tr>\n",
       "    <tr>\n",
       "      <th>...</th>\n",
       "      <td>...</td>\n",
       "      <td>...</td>\n",
       "      <td>...</td>\n",
       "      <td>...</td>\n",
       "      <td>...</td>\n",
       "    </tr>\n",
       "    <tr>\n",
       "      <th>75888</th>\n",
       "      <td>417890</td>\n",
       "      <td>Apotheon Arena</td>\n",
       "      <td>309181805</td>\n",
       "      <td>1.0</td>\n",
       "      <td>purchase</td>\n",
       "    </tr>\n",
       "    <tr>\n",
       "      <th>75889</th>\n",
       "      <td>418040</td>\n",
       "      <td>hocus</td>\n",
       "      <td>195072781</td>\n",
       "      <td>1.0</td>\n",
       "      <td>purchase</td>\n",
       "    </tr>\n",
       "    <tr>\n",
       "      <th>75890</th>\n",
       "      <td>418280</td>\n",
       "      <td>Retaliation</td>\n",
       "      <td>300708628</td>\n",
       "      <td>1.0</td>\n",
       "      <td>purchase</td>\n",
       "    </tr>\n",
       "    <tr>\n",
       "      <th>75891</th>\n",
       "      <td>421810</td>\n",
       "      <td>OH! RPG!</td>\n",
       "      <td>76892907</td>\n",
       "      <td>1.0</td>\n",
       "      <td>purchase</td>\n",
       "    </tr>\n",
       "    <tr>\n",
       "      <th>75892</th>\n",
       "      <td>421810</td>\n",
       "      <td>OH! RPG!</td>\n",
       "      <td>88525821</td>\n",
       "      <td>1.0</td>\n",
       "      <td>purchase</td>\n",
       "    </tr>\n",
       "    <tr>\n",
       "      <th>75893</th>\n",
       "      <td>422630</td>\n",
       "      <td>Metaverse Construction Kit</td>\n",
       "      <td>194670621</td>\n",
       "      <td>1.0</td>\n",
       "      <td>purchase</td>\n",
       "    </tr>\n",
       "    <tr>\n",
       "      <th>75894</th>\n",
       "      <td>422630</td>\n",
       "      <td>Metaverse Construction Kit</td>\n",
       "      <td>258531019</td>\n",
       "      <td>1.0</td>\n",
       "      <td>purchase</td>\n",
       "    </tr>\n",
       "    <tr>\n",
       "      <th>75895</th>\n",
       "      <td>422630</td>\n",
       "      <td>Metaverse Construction Kit</td>\n",
       "      <td>299211913</td>\n",
       "      <td>1.0</td>\n",
       "      <td>purchase</td>\n",
       "    </tr>\n",
       "    <tr>\n",
       "      <th>75896</th>\n",
       "      <td>423770</td>\n",
       "      <td>Our Love Will Grow</td>\n",
       "      <td>113546110</td>\n",
       "      <td>1.0</td>\n",
       "      <td>purchase</td>\n",
       "    </tr>\n",
       "    <tr>\n",
       "      <th>75897</th>\n",
       "      <td>423880</td>\n",
       "      <td>Carpe Diem</td>\n",
       "      <td>47384202</td>\n",
       "      <td>1.0</td>\n",
       "      <td>purchase</td>\n",
       "    </tr>\n",
       "    <tr>\n",
       "      <th>75898</th>\n",
       "      <td>423880</td>\n",
       "      <td>Carpe Diem</td>\n",
       "      <td>88705345</td>\n",
       "      <td>1.0</td>\n",
       "      <td>purchase</td>\n",
       "    </tr>\n",
       "    <tr>\n",
       "      <th>75899</th>\n",
       "      <td>423880</td>\n",
       "      <td>Carpe Diem</td>\n",
       "      <td>225176638</td>\n",
       "      <td>1.0</td>\n",
       "      <td>purchase</td>\n",
       "    </tr>\n",
       "    <tr>\n",
       "      <th>75900</th>\n",
       "      <td>423880</td>\n",
       "      <td>Carpe Diem</td>\n",
       "      <td>234024191</td>\n",
       "      <td>1.0</td>\n",
       "      <td>purchase</td>\n",
       "    </tr>\n",
       "    <tr>\n",
       "      <th>75901</th>\n",
       "      <td>423880</td>\n",
       "      <td>Carpe Diem</td>\n",
       "      <td>304037281</td>\n",
       "      <td>1.0</td>\n",
       "      <td>purchase</td>\n",
       "    </tr>\n",
       "    <tr>\n",
       "      <th>75902</th>\n",
       "      <td>488080</td>\n",
       "      <td>Taxi</td>\n",
       "      <td>155919035</td>\n",
       "      <td>1.5</td>\n",
       "      <td>play</td>\n",
       "    </tr>\n",
       "    <tr>\n",
       "      <th>75903</th>\n",
       "      <td>495910</td>\n",
       "      <td>Dungeon Fighter Online</td>\n",
       "      <td>58345543</td>\n",
       "      <td>1.0</td>\n",
       "      <td>purchase</td>\n",
       "    </tr>\n",
       "    <tr>\n",
       "      <th>75904</th>\n",
       "      <td>495910</td>\n",
       "      <td>Dungeon Fighter Online</td>\n",
       "      <td>73726855</td>\n",
       "      <td>1.0</td>\n",
       "      <td>purchase</td>\n",
       "    </tr>\n",
       "    <tr>\n",
       "      <th>75905</th>\n",
       "      <td>495910</td>\n",
       "      <td>Dungeon Fighter Online</td>\n",
       "      <td>86912006</td>\n",
       "      <td>1.0</td>\n",
       "      <td>purchase</td>\n",
       "    </tr>\n",
       "    <tr>\n",
       "      <th>75906</th>\n",
       "      <td>495910</td>\n",
       "      <td>Dungeon Fighter Online</td>\n",
       "      <td>157636450</td>\n",
       "      <td>1.0</td>\n",
       "      <td>purchase</td>\n",
       "    </tr>\n",
       "    <tr>\n",
       "      <th>75907</th>\n",
       "      <td>495910</td>\n",
       "      <td>Dungeon Fighter Online</td>\n",
       "      <td>166863117</td>\n",
       "      <td>1.0</td>\n",
       "      <td>purchase</td>\n",
       "    </tr>\n",
       "    <tr>\n",
       "      <th>75908</th>\n",
       "      <td>495910</td>\n",
       "      <td>Dungeon Fighter Online</td>\n",
       "      <td>168163793</td>\n",
       "      <td>1.0</td>\n",
       "      <td>purchase</td>\n",
       "    </tr>\n",
       "    <tr>\n",
       "      <th>75909</th>\n",
       "      <td>495910</td>\n",
       "      <td>Dungeon Fighter Online</td>\n",
       "      <td>176771895</td>\n",
       "      <td>1.0</td>\n",
       "      <td>purchase</td>\n",
       "    </tr>\n",
       "    <tr>\n",
       "      <th>75910</th>\n",
       "      <td>495910</td>\n",
       "      <td>Dungeon Fighter Online</td>\n",
       "      <td>189734107</td>\n",
       "      <td>1.0</td>\n",
       "      <td>purchase</td>\n",
       "    </tr>\n",
       "    <tr>\n",
       "      <th>75911</th>\n",
       "      <td>495910</td>\n",
       "      <td>Dungeon Fighter Online</td>\n",
       "      <td>197904909</td>\n",
       "      <td>1.0</td>\n",
       "      <td>purchase</td>\n",
       "    </tr>\n",
       "    <tr>\n",
       "      <th>75912</th>\n",
       "      <td>495910</td>\n",
       "      <td>Dungeon Fighter Online</td>\n",
       "      <td>204795948</td>\n",
       "      <td>1.0</td>\n",
       "      <td>purchase</td>\n",
       "    </tr>\n",
       "    <tr>\n",
       "      <th>75913</th>\n",
       "      <td>495910</td>\n",
       "      <td>Dungeon Fighter Online</td>\n",
       "      <td>210905793</td>\n",
       "      <td>1.0</td>\n",
       "      <td>purchase</td>\n",
       "    </tr>\n",
       "    <tr>\n",
       "      <th>75914</th>\n",
       "      <td>495910</td>\n",
       "      <td>Dungeon Fighter Online</td>\n",
       "      <td>216088282</td>\n",
       "      <td>1.0</td>\n",
       "      <td>purchase</td>\n",
       "    </tr>\n",
       "    <tr>\n",
       "      <th>75915</th>\n",
       "      <td>495910</td>\n",
       "      <td>Dungeon Fighter Online</td>\n",
       "      <td>219466905</td>\n",
       "      <td>1.0</td>\n",
       "      <td>purchase</td>\n",
       "    </tr>\n",
       "    <tr>\n",
       "      <th>75916</th>\n",
       "      <td>495910</td>\n",
       "      <td>Dungeon Fighter Online</td>\n",
       "      <td>246439849</td>\n",
       "      <td>1.0</td>\n",
       "      <td>purchase</td>\n",
       "    </tr>\n",
       "    <tr>\n",
       "      <th>75917</th>\n",
       "      <td>495910</td>\n",
       "      <td>Dungeon Fighter Online</td>\n",
       "      <td>248444377</td>\n",
       "      <td>1.0</td>\n",
       "      <td>purchase</td>\n",
       "    </tr>\n",
       "  </tbody>\n",
       "</table>\n",
       "<p>75918 rows × 5 columns</p>\n",
       "</div>"
      ],
      "text/plain": [
       "       GameID                   game_name    user_id  play_hours  purchase\n",
       "0          10              Counter-Strike       5250         1.0  purchase\n",
       "1          10              Counter-Strike      76767       365.0      play\n",
       "2          10              Counter-Strike      86540         1.0  purchase\n",
       "3          10              Counter-Strike     103360         1.0  purchase\n",
       "4          10              Counter-Strike     144736         1.0  purchase\n",
       "5          10              Counter-Strike     181212         1.8      play\n",
       "6          10              Counter-Strike     229911        45.0      play\n",
       "7          10              Counter-Strike     298950         1.0  purchase\n",
       "8          10              Counter-Strike     299153         1.0  purchase\n",
       "9          10              Counter-Strike     381543         3.0      play\n",
       "10         10              Counter-Strike     547685        22.0      play\n",
       "11         10              Counter-Strike     554278         1.0  purchase\n",
       "12         10              Counter-Strike     561758         1.0  purchase\n",
       "13         10              Counter-Strike     577614        36.0      play\n",
       "14         10              Counter-Strike     604988         1.0  purchase\n",
       "15         10              Counter-Strike     622362        22.0      play\n",
       "16         10              Counter-Strike     635733         1.0  purchase\n",
       "17         10              Counter-Strike     683019         1.0  purchase\n",
       "18         10              Counter-Strike     714122         1.0  purchase\n",
       "19         10              Counter-Strike     748719        13.6      play\n",
       "20         10              Counter-Strike     835015         1.0  purchase\n",
       "21         10              Counter-Strike     861238         1.0  purchase\n",
       "22         10              Counter-Strike     871990         3.0      play\n",
       "23         10              Counter-Strike     937567         1.0  purchase\n",
       "24         10              Counter-Strike     948368         5.2      play\n",
       "25         10              Counter-Strike     975449         1.0  purchase\n",
       "26         10              Counter-Strike     976129         1.0  purchase\n",
       "27         10              Counter-Strike     983600         1.0  purchase\n",
       "28         10              Counter-Strike     994489      1087.0      play\n",
       "29         10              Counter-Strike    1006880         1.0  purchase\n",
       "...       ...                         ...        ...         ...       ...\n",
       "75888  417890              Apotheon Arena  309181805         1.0  purchase\n",
       "75889  418040                       hocus  195072781         1.0  purchase\n",
       "75890  418280                 Retaliation  300708628         1.0  purchase\n",
       "75891  421810                    OH! RPG!   76892907         1.0  purchase\n",
       "75892  421810                    OH! RPG!   88525821         1.0  purchase\n",
       "75893  422630  Metaverse Construction Kit  194670621         1.0  purchase\n",
       "75894  422630  Metaverse Construction Kit  258531019         1.0  purchase\n",
       "75895  422630  Metaverse Construction Kit  299211913         1.0  purchase\n",
       "75896  423770          Our Love Will Grow  113546110         1.0  purchase\n",
       "75897  423880                  Carpe Diem   47384202         1.0  purchase\n",
       "75898  423880                  Carpe Diem   88705345         1.0  purchase\n",
       "75899  423880                  Carpe Diem  225176638         1.0  purchase\n",
       "75900  423880                  Carpe Diem  234024191         1.0  purchase\n",
       "75901  423880                  Carpe Diem  304037281         1.0  purchase\n",
       "75902  488080                        Taxi  155919035         1.5      play\n",
       "75903  495910      Dungeon Fighter Online   58345543         1.0  purchase\n",
       "75904  495910      Dungeon Fighter Online   73726855         1.0  purchase\n",
       "75905  495910      Dungeon Fighter Online   86912006         1.0  purchase\n",
       "75906  495910      Dungeon Fighter Online  157636450         1.0  purchase\n",
       "75907  495910      Dungeon Fighter Online  166863117         1.0  purchase\n",
       "75908  495910      Dungeon Fighter Online  168163793         1.0  purchase\n",
       "75909  495910      Dungeon Fighter Online  176771895         1.0  purchase\n",
       "75910  495910      Dungeon Fighter Online  189734107         1.0  purchase\n",
       "75911  495910      Dungeon Fighter Online  197904909         1.0  purchase\n",
       "75912  495910      Dungeon Fighter Online  204795948         1.0  purchase\n",
       "75913  495910      Dungeon Fighter Online  210905793         1.0  purchase\n",
       "75914  495910      Dungeon Fighter Online  216088282         1.0  purchase\n",
       "75915  495910      Dungeon Fighter Online  219466905         1.0  purchase\n",
       "75916  495910      Dungeon Fighter Online  246439849         1.0  purchase\n",
       "75917  495910      Dungeon Fighter Online  248444377         1.0  purchase\n",
       "\n",
       "[75918 rows x 5 columns]"
      ]
     },
     "execution_count": 46,
     "metadata": {},
     "output_type": "execute_result"
    }
   ],
   "source": [
    "new_user_df_2"
   ]
  },
  {
   "cell_type": "code",
   "execution_count": 47,
   "metadata": {},
   "outputs": [],
   "source": [
    "# game_df.to_csv('cleaned_games.csv', index = False)\n",
    "new_user_df_2.to_csv('cleaned_users.csv', index = False)\n",
    "# review_df.to_csv('cleaned_review.csv', index = False)"
   ]
  },
  {
   "cell_type": "code",
   "execution_count": 28,
   "metadata": {},
   "outputs": [],
   "source": [
    "# import sqlalchemy\n",
    "# database_username = 'ENTER USERNAME'\n",
    "# database_password = 'ENTER USERNAME PASSWORD'\n",
    "# database_ip       = 'ENTER DATABASE IP'\n",
    "# database_name     = 'ENTER DATABASE NAME'\n",
    "# database_connection = sqlalchemy.create_engine('mysql+mysqlconnector://{0}:{1}@{2}/{3}'.\n",
    "#                                                format(database_username, database_password, \n",
    "#                                                       database_ip, database_name))"
   ]
  },
  {
   "cell_type": "code",
   "execution_count": 27,
   "metadata": {},
   "outputs": [
    {
     "ename": "TypeError",
     "evalue": "to_sql() missing 1 required positional argument: 'con'",
     "output_type": "error",
     "traceback": [
      "\u001b[1;31m---------------------------------------------------------------------------\u001b[0m",
      "\u001b[1;31mTypeError\u001b[0m                                 Traceback (most recent call last)",
      "\u001b[1;32m<ipython-input-27-7bf1271b460e>\u001b[0m in \u001b[0;36m<module>\u001b[1;34m()\u001b[0m\n\u001b[1;32m----> 1\u001b[1;33m \u001b[0mgame_info_df\u001b[0m\u001b[1;33m.\u001b[0m\u001b[0mto_sql\u001b[0m\u001b[1;33m(\u001b[0m\u001b[1;34m'games'\u001b[0m\u001b[1;33m)\u001b[0m\u001b[1;33m\u001b[0m\u001b[0m\n\u001b[0m",
      "\u001b[1;31mTypeError\u001b[0m: to_sql() missing 1 required positional argument: 'con'"
     ]
    }
   ],
   "source": [
    "# game_info_df.to_sql('games', con = '')"
   ]
  },
  {
   "cell_type": "code",
   "execution_count": 31,
   "metadata": {},
   "outputs": [
    {
     "data": {
      "text/plain": [
       "Index(['GameID', 'Name', 'ReleaseDate', 'RequiredAge', 'Rating',\n",
       "       'RecommendationCount', 'SteamSpyPlayersEstimate', 'PriceCurrency',\n",
       "       'PriceInitial', 'PriceFinal', 'SupportURL', 'AboutText', 'Background',\n",
       "       'HeaderImage'],\n",
       "      dtype='object')"
      ]
     },
     "execution_count": 31,
     "metadata": {},
     "output_type": "execute_result"
    }
   ],
   "source": [
    "# game_df.columns"
   ]
  },
  {
   "cell_type": "code",
   "execution_count": 32,
   "metadata": {},
   "outputs": [
    {
     "data": {
      "text/plain": [
       "Index(['user_id', 'game_name', 'purchase', 'play_hours'], dtype='object')"
      ]
     },
     "execution_count": 32,
     "metadata": {},
     "output_type": "execute_result"
    }
   ],
   "source": [
    "user_df.columns"
   ]
  },
  {
   "cell_type": "code",
   "execution_count": 35,
   "metadata": {},
   "outputs": [
    {
     "data": {
      "text/plain": [
       "GameID                                                                 47730\n",
       "Name                                         Dragon Age: Origins - Awakening\n",
       "ReleaseDate                                              2010-03-16 00:00:00\n",
       "RequiredAge                                                               17\n",
       "Rating                                                                    82\n",
       "RecommendationCount                                                        0\n",
       "SteamSpyPlayersEstimate                                                54702\n",
       "PriceCurrency                                                            USD\n",
       "PriceInitial                                                            9.99\n",
       "PriceFinal                                                              9.99\n",
       "SupportURL                                                                  \n",
       "AboutText                  From the Makers of the Best RPG of 2009 Dragon...\n",
       "Background                 http://cdn.akamai.steamstatic.com/steam/apps/4...\n",
       "HeaderImage                http://cdn.akamai.steamstatic.com/steam/apps/4...\n",
       "Name: 1167, dtype: object"
      ]
     },
     "execution_count": 35,
     "metadata": {},
     "output_type": "execute_result"
    }
   ],
   "source": [
    "game_df.iloc[1166,:]"
   ]
  },
  {
   "cell_type": "code",
   "execution_count": 37,
   "metadata": {},
   "outputs": [
    {
     "data": {
      "text/plain": [
       "Index(['game_id', 'review', 'sentiment', 'helpful_review'], dtype='object')"
      ]
     },
     "execution_count": 37,
     "metadata": {},
     "output_type": "execute_result"
    }
   ],
   "source": [
    "review_df.columns"
   ]
  },
  {
   "cell_type": "code",
   "execution_count": 39,
   "metadata": {},
   "outputs": [
    {
     "data": {
      "text/html": [
       "<div>\n",
       "<style scoped>\n",
       "    .dataframe tbody tr th:only-of-type {\n",
       "        vertical-align: middle;\n",
       "    }\n",
       "\n",
       "    .dataframe tbody tr th {\n",
       "        vertical-align: top;\n",
       "    }\n",
       "\n",
       "    .dataframe thead th {\n",
       "        text-align: right;\n",
       "    }\n",
       "</style>\n",
       "<table border=\"1\" class=\"dataframe\">\n",
       "  <thead>\n",
       "    <tr style=\"text-align: right;\">\n",
       "      <th></th>\n",
       "      <th>review_id</th>\n",
       "      <th>game_id</th>\n",
       "      <th>review</th>\n",
       "      <th>sentiment</th>\n",
       "      <th>helpful_review</th>\n",
       "    </tr>\n",
       "  </thead>\n",
       "  <tbody>\n",
       "    <tr>\n",
       "      <th>0</th>\n",
       "      <td>0</td>\n",
       "      <td>10</td>\n",
       "      <td>Ruined my life.</td>\n",
       "      <td>1</td>\n",
       "      <td>0</td>\n",
       "    </tr>\n",
       "    <tr>\n",
       "      <th>1</th>\n",
       "      <td>1</td>\n",
       "      <td>10</td>\n",
       "      <td>This will be more of a ''my experience with th...</td>\n",
       "      <td>1</td>\n",
       "      <td>1</td>\n",
       "    </tr>\n",
       "    <tr>\n",
       "      <th>2</th>\n",
       "      <td>2</td>\n",
       "      <td>10</td>\n",
       "      <td>This game saved my virginity.</td>\n",
       "      <td>1</td>\n",
       "      <td>0</td>\n",
       "    </tr>\n",
       "    <tr>\n",
       "      <th>3</th>\n",
       "      <td>3</td>\n",
       "      <td>10</td>\n",
       "      <td>• Do you like original games? • Do you like ga...</td>\n",
       "      <td>1</td>\n",
       "      <td>0</td>\n",
       "    </tr>\n",
       "    <tr>\n",
       "      <th>4</th>\n",
       "      <td>4</td>\n",
       "      <td>10</td>\n",
       "      <td>Easy to learn, hard to master.</td>\n",
       "      <td>1</td>\n",
       "      <td>1</td>\n",
       "    </tr>\n",
       "  </tbody>\n",
       "</table>\n",
       "</div>"
      ],
      "text/plain": [
       "   review_id  game_id                                             review  \\\n",
       "0          0       10                                    Ruined my life.   \n",
       "1          1       10  This will be more of a ''my experience with th...   \n",
       "2          2       10                      This game saved my virginity.   \n",
       "3          3       10  • Do you like original games? • Do you like ga...   \n",
       "4          4       10           Easy to learn, hard to master.             \n",
       "\n",
       "   sentiment  helpful_review  \n",
       "0          1               0  \n",
       "1          1               1  \n",
       "2          1               0  \n",
       "3          1               0  \n",
       "4          1               1  "
      ]
     },
     "execution_count": 39,
     "metadata": {},
     "output_type": "execute_result"
    }
   ],
   "source": [
    "review_df.head()"
   ]
  },
  {
   "cell_type": "code",
   "execution_count": 106,
   "metadata": {},
   "outputs": [],
   "source": [
    "review_df['review1'] = review_df['review'].astype(str).str[0:4000]\n",
    "review_df['review2'] = review_df['review'].astype(str).str[4000:8000]\n",
    "review_df['review3'] = review_df['review'].astype(str).str[8000:12000]\n",
    "review_df['review4'] = review_df['review'].astype(str).str[12000: 16000]\n",
    "review_df['review5'] = review_df['review'].astype(str).str[16000:]"
   ]
  },
  {
   "cell_type": "code",
   "execution_count": 107,
   "metadata": {},
   "outputs": [
    {
     "data": {
      "text/html": [
       "<div>\n",
       "<style scoped>\n",
       "    .dataframe tbody tr th:only-of-type {\n",
       "        vertical-align: middle;\n",
       "    }\n",
       "\n",
       "    .dataframe tbody tr th {\n",
       "        vertical-align: top;\n",
       "    }\n",
       "\n",
       "    .dataframe thead th {\n",
       "        text-align: right;\n",
       "    }\n",
       "</style>\n",
       "<table border=\"1\" class=\"dataframe\">\n",
       "  <thead>\n",
       "    <tr style=\"text-align: right;\">\n",
       "      <th></th>\n",
       "      <th>review_id</th>\n",
       "      <th>review_id</th>\n",
       "      <th>game_id</th>\n",
       "      <th>review</th>\n",
       "      <th>sentiment</th>\n",
       "      <th>helpful_review</th>\n",
       "      <th>review1</th>\n",
       "      <th>review2</th>\n",
       "      <th>review3</th>\n",
       "      <th>review4</th>\n",
       "      <th>review5</th>\n",
       "    </tr>\n",
       "  </thead>\n",
       "  <tbody>\n",
       "    <tr>\n",
       "      <th>0</th>\n",
       "      <td>0</td>\n",
       "      <td>0</td>\n",
       "      <td>10</td>\n",
       "      <td>Ruined my life.</td>\n",
       "      <td>1</td>\n",
       "      <td>0</td>\n",
       "      <td>Ruined my life.</td>\n",
       "      <td></td>\n",
       "      <td></td>\n",
       "      <td></td>\n",
       "      <td></td>\n",
       "    </tr>\n",
       "    <tr>\n",
       "      <th>1</th>\n",
       "      <td>1</td>\n",
       "      <td>1</td>\n",
       "      <td>10</td>\n",
       "      <td>This will be more of a ''my experience with th...</td>\n",
       "      <td>1</td>\n",
       "      <td>1</td>\n",
       "      <td>This will be more of a ''my experience with th...</td>\n",
       "      <td></td>\n",
       "      <td></td>\n",
       "      <td></td>\n",
       "      <td></td>\n",
       "    </tr>\n",
       "    <tr>\n",
       "      <th>2</th>\n",
       "      <td>2</td>\n",
       "      <td>2</td>\n",
       "      <td>10</td>\n",
       "      <td>This game saved my virginity.</td>\n",
       "      <td>1</td>\n",
       "      <td>0</td>\n",
       "      <td>This game saved my virginity.</td>\n",
       "      <td></td>\n",
       "      <td></td>\n",
       "      <td></td>\n",
       "      <td></td>\n",
       "    </tr>\n",
       "    <tr>\n",
       "      <th>3</th>\n",
       "      <td>3</td>\n",
       "      <td>3</td>\n",
       "      <td>10</td>\n",
       "      <td>• Do you like original games? • Do you like ga...</td>\n",
       "      <td>1</td>\n",
       "      <td>0</td>\n",
       "      <td>• Do you like original games? • Do you like ga...</td>\n",
       "      <td></td>\n",
       "      <td></td>\n",
       "      <td></td>\n",
       "      <td></td>\n",
       "    </tr>\n",
       "    <tr>\n",
       "      <th>4</th>\n",
       "      <td>4</td>\n",
       "      <td>4</td>\n",
       "      <td>10</td>\n",
       "      <td>Easy to learn, hard to master.</td>\n",
       "      <td>1</td>\n",
       "      <td>1</td>\n",
       "      <td>Easy to learn, hard to master.</td>\n",
       "      <td></td>\n",
       "      <td></td>\n",
       "      <td></td>\n",
       "      <td></td>\n",
       "    </tr>\n",
       "  </tbody>\n",
       "</table>\n",
       "</div>"
      ],
      "text/plain": [
       "   review_id  review_id  game_id  \\\n",
       "0          0          0       10   \n",
       "1          1          1       10   \n",
       "2          2          2       10   \n",
       "3          3          3       10   \n",
       "4          4          4       10   \n",
       "\n",
       "                                              review  sentiment  \\\n",
       "0                                    Ruined my life.          1   \n",
       "1  This will be more of a ''my experience with th...          1   \n",
       "2                      This game saved my virginity.          1   \n",
       "3  • Do you like original games? • Do you like ga...          1   \n",
       "4           Easy to learn, hard to master.                    1   \n",
       "\n",
       "   helpful_review                                            review1 review2  \\\n",
       "0               0                                    Ruined my life.           \n",
       "1               1  This will be more of a ''my experience with th...           \n",
       "2               0                      This game saved my virginity.           \n",
       "3               0  • Do you like original games? • Do you like ga...           \n",
       "4               1           Easy to learn, hard to master.                     \n",
       "\n",
       "  review3 review4 review5  \n",
       "0                          \n",
       "1                          \n",
       "2                          \n",
       "3                          \n",
       "4                          "
      ]
     },
     "execution_count": 107,
     "metadata": {},
     "output_type": "execute_result"
    }
   ],
   "source": [
    "review_df.head()"
   ]
  },
  {
   "cell_type": "code",
   "execution_count": 109,
   "metadata": {},
   "outputs": [],
   "source": [
    "review_df = review_df.replace('', ' ')"
   ]
  },
  {
   "cell_type": "code",
   "execution_count": 110,
   "metadata": {},
   "outputs": [],
   "source": [
    "review_df.to_csv('cleaned_review_new.csv', index = False)"
   ]
  },
  {
   "cell_type": "code",
   "execution_count": 101,
   "metadata": {},
   "outputs": [],
   "source": [
    "game_df['aboutText1'] = game_df['AboutText'].astype(str).str[0:4000]\n",
    "game_df['aboutText2'] = game_df['AboutText'].astype(str).str[4000:8000]\n",
    "game_df['aboutText3'] = game_df['AboutText'].astype(str).str[8000:12000]\n",
    "game_df['aboutText4'] = game_df['AboutText'].astype(str).str[12000: 16000]\n",
    "game_df['aboutText5'] = game_df['AboutText'].astype(str).str[16000:]"
   ]
  },
  {
   "cell_type": "code",
   "execution_count": 102,
   "metadata": {},
   "outputs": [
    {
     "data": {
      "text/html": [
       "<div>\n",
       "<style scoped>\n",
       "    .dataframe tbody tr th:only-of-type {\n",
       "        vertical-align: middle;\n",
       "    }\n",
       "\n",
       "    .dataframe tbody tr th {\n",
       "        vertical-align: top;\n",
       "    }\n",
       "\n",
       "    .dataframe thead th {\n",
       "        text-align: right;\n",
       "    }\n",
       "</style>\n",
       "<table border=\"1\" class=\"dataframe\">\n",
       "  <thead>\n",
       "    <tr style=\"text-align: right;\">\n",
       "      <th></th>\n",
       "      <th>GameID</th>\n",
       "      <th>Name</th>\n",
       "      <th>ReleaseDate</th>\n",
       "      <th>RequiredAge</th>\n",
       "      <th>Rating</th>\n",
       "      <th>RecommendationCount</th>\n",
       "      <th>SteamSpyPlayersEstimate</th>\n",
       "      <th>PriceCurrency</th>\n",
       "      <th>PriceInitial</th>\n",
       "      <th>PriceFinal</th>\n",
       "      <th>SupportURL</th>\n",
       "      <th>AboutText</th>\n",
       "      <th>Background</th>\n",
       "      <th>HeaderImage</th>\n",
       "      <th>aboutText1</th>\n",
       "      <th>aboutText2</th>\n",
       "      <th>aboutText3</th>\n",
       "      <th>aboutText4</th>\n",
       "      <th>aboutText5</th>\n",
       "    </tr>\n",
       "  </thead>\n",
       "  <tbody>\n",
       "    <tr>\n",
       "      <th>0</th>\n",
       "      <td>10</td>\n",
       "      <td>Counter-Strike</td>\n",
       "      <td>2000-11-01</td>\n",
       "      <td>0</td>\n",
       "      <td>88</td>\n",
       "      <td>68991</td>\n",
       "      <td>9140731</td>\n",
       "      <td>USD</td>\n",
       "      <td>9.99</td>\n",
       "      <td>9.99</td>\n",
       "      <td>http://steamcommunity.com/app/10</td>\n",
       "      <td>Play the worlds number 1 online action game. E...</td>\n",
       "      <td>http://cdn.akamai.steamstatic.com/steam/apps/1...</td>\n",
       "      <td>http://cdn.akamai.steamstatic.com/steam/apps/1...</td>\n",
       "      <td>Play the worlds number 1 online action game. E...</td>\n",
       "      <td></td>\n",
       "      <td></td>\n",
       "      <td></td>\n",
       "      <td></td>\n",
       "    </tr>\n",
       "    <tr>\n",
       "      <th>1</th>\n",
       "      <td>20</td>\n",
       "      <td>Team Fortress Classic</td>\n",
       "      <td>1999-04-01</td>\n",
       "      <td>0</td>\n",
       "      <td>0</td>\n",
       "      <td>2439</td>\n",
       "      <td>753627</td>\n",
       "      <td>USD</td>\n",
       "      <td>4.99</td>\n",
       "      <td>4.99</td>\n",
       "      <td></td>\n",
       "      <td>One of the most popular online action games of...</td>\n",
       "      <td>http://cdn.akamai.steamstatic.com/steam/apps/2...</td>\n",
       "      <td>http://cdn.akamai.steamstatic.com/steam/apps/2...</td>\n",
       "      <td>One of the most popular online action games of...</td>\n",
       "      <td></td>\n",
       "      <td></td>\n",
       "      <td></td>\n",
       "      <td></td>\n",
       "    </tr>\n",
       "    <tr>\n",
       "      <th>2</th>\n",
       "      <td>30</td>\n",
       "      <td>Day of Defeat</td>\n",
       "      <td>2003-05-01</td>\n",
       "      <td>0</td>\n",
       "      <td>79</td>\n",
       "      <td>2319</td>\n",
       "      <td>1709740</td>\n",
       "      <td>USD</td>\n",
       "      <td>4.99</td>\n",
       "      <td>4.99</td>\n",
       "      <td></td>\n",
       "      <td>Enlist in an intense brand of Axis vs. Allied ...</td>\n",
       "      <td>http://cdn.akamai.steamstatic.com/steam/apps/3...</td>\n",
       "      <td>http://cdn.akamai.steamstatic.com/steam/apps/3...</td>\n",
       "      <td>Enlist in an intense brand of Axis vs. Allied ...</td>\n",
       "      <td></td>\n",
       "      <td></td>\n",
       "      <td></td>\n",
       "      <td></td>\n",
       "    </tr>\n",
       "    <tr>\n",
       "      <th>3</th>\n",
       "      <td>40</td>\n",
       "      <td>Deathmatch Classic</td>\n",
       "      <td>2001-06-01</td>\n",
       "      <td>0</td>\n",
       "      <td>0</td>\n",
       "      <td>888</td>\n",
       "      <td>789676</td>\n",
       "      <td>USD</td>\n",
       "      <td>4.99</td>\n",
       "      <td>4.99</td>\n",
       "      <td></td>\n",
       "      <td>Enjoy fast-paced multiplayer gaming with Death...</td>\n",
       "      <td>http://cdn.akamai.steamstatic.com/steam/apps/4...</td>\n",
       "      <td>http://cdn.akamai.steamstatic.com/steam/apps/4...</td>\n",
       "      <td>Enjoy fast-paced multiplayer gaming with Death...</td>\n",
       "      <td></td>\n",
       "      <td></td>\n",
       "      <td></td>\n",
       "      <td></td>\n",
       "    </tr>\n",
       "    <tr>\n",
       "      <th>4</th>\n",
       "      <td>50</td>\n",
       "      <td>Half-Life: Opposing Force</td>\n",
       "      <td>1999-11-01</td>\n",
       "      <td>0</td>\n",
       "      <td>0</td>\n",
       "      <td>2934</td>\n",
       "      <td>705741</td>\n",
       "      <td>USD</td>\n",
       "      <td>4.99</td>\n",
       "      <td>4.99</td>\n",
       "      <td></td>\n",
       "      <td>Return to the Black Mesa Research Facility as ...</td>\n",
       "      <td>http://cdn.akamai.steamstatic.com/steam/apps/5...</td>\n",
       "      <td>http://cdn.akamai.steamstatic.com/steam/apps/5...</td>\n",
       "      <td>Return to the Black Mesa Research Facility as ...</td>\n",
       "      <td></td>\n",
       "      <td></td>\n",
       "      <td></td>\n",
       "      <td></td>\n",
       "    </tr>\n",
       "  </tbody>\n",
       "</table>\n",
       "</div>"
      ],
      "text/plain": [
       "   GameID                       Name ReleaseDate  RequiredAge  Rating  \\\n",
       "0      10             Counter-Strike  2000-11-01            0      88   \n",
       "1      20      Team Fortress Classic  1999-04-01            0       0   \n",
       "2      30              Day of Defeat  2003-05-01            0      79   \n",
       "3      40         Deathmatch Classic  2001-06-01            0       0   \n",
       "4      50  Half-Life: Opposing Force  1999-11-01            0       0   \n",
       "\n",
       "   RecommendationCount  SteamSpyPlayersEstimate PriceCurrency  PriceInitial  \\\n",
       "0                68991                  9140731           USD          9.99   \n",
       "1                 2439                   753627           USD          4.99   \n",
       "2                 2319                  1709740           USD          4.99   \n",
       "3                  888                   789676           USD          4.99   \n",
       "4                 2934                   705741           USD          4.99   \n",
       "\n",
       "   PriceFinal                        SupportURL  \\\n",
       "0        9.99  http://steamcommunity.com/app/10   \n",
       "1        4.99                                     \n",
       "2        4.99                                     \n",
       "3        4.99                                     \n",
       "4        4.99                                     \n",
       "\n",
       "                                           AboutText  \\\n",
       "0  Play the worlds number 1 online action game. E...   \n",
       "1  One of the most popular online action games of...   \n",
       "2  Enlist in an intense brand of Axis vs. Allied ...   \n",
       "3  Enjoy fast-paced multiplayer gaming with Death...   \n",
       "4  Return to the Black Mesa Research Facility as ...   \n",
       "\n",
       "                                          Background  \\\n",
       "0  http://cdn.akamai.steamstatic.com/steam/apps/1...   \n",
       "1  http://cdn.akamai.steamstatic.com/steam/apps/2...   \n",
       "2  http://cdn.akamai.steamstatic.com/steam/apps/3...   \n",
       "3  http://cdn.akamai.steamstatic.com/steam/apps/4...   \n",
       "4  http://cdn.akamai.steamstatic.com/steam/apps/5...   \n",
       "\n",
       "                                         HeaderImage  \\\n",
       "0  http://cdn.akamai.steamstatic.com/steam/apps/1...   \n",
       "1  http://cdn.akamai.steamstatic.com/steam/apps/2...   \n",
       "2  http://cdn.akamai.steamstatic.com/steam/apps/3...   \n",
       "3  http://cdn.akamai.steamstatic.com/steam/apps/4...   \n",
       "4  http://cdn.akamai.steamstatic.com/steam/apps/5...   \n",
       "\n",
       "                                          aboutText1 aboutText2 aboutText3  \\\n",
       "0  Play the worlds number 1 online action game. E...                         \n",
       "1  One of the most popular online action games of...                         \n",
       "2  Enlist in an intense brand of Axis vs. Allied ...                         \n",
       "3  Enjoy fast-paced multiplayer gaming with Death...                         \n",
       "4  Return to the Black Mesa Research Facility as ...                         \n",
       "\n",
       "  aboutText4 aboutText5  \n",
       "0                        \n",
       "1                        \n",
       "2                        \n",
       "3                        \n",
       "4                        "
      ]
     },
     "execution_count": 102,
     "metadata": {},
     "output_type": "execute_result"
    }
   ],
   "source": [
    "game_df.head()"
   ]
  },
  {
   "cell_type": "code",
   "execution_count": 105,
   "metadata": {},
   "outputs": [],
   "source": [
    "game_df.to_csv('cleaned_games_new.csv', index = False)"
   ]
  },
  {
   "cell_type": "code",
   "execution_count": 103,
   "metadata": {},
   "outputs": [],
   "source": [
    "game_df = game_df.replace('', ' ')"
   ]
  },
  {
   "cell_type": "code",
   "execution_count": 104,
   "metadata": {},
   "outputs": [
    {
     "data": {
      "text/plain": [
       "(13303, 19)"
      ]
     },
     "execution_count": 104,
     "metadata": {},
     "output_type": "execute_result"
    }
   ],
   "source": [
    "game_df.shape"
   ]
  },
  {
   "cell_type": "code",
   "execution_count": 111,
   "metadata": {},
   "outputs": [
    {
     "data": {
      "text/plain": [
       "(6409801, 11)"
      ]
     },
     "execution_count": 111,
     "metadata": {},
     "output_type": "execute_result"
    }
   ],
   "source": [
    "review_df.shape"
   ]
  },
  {
   "cell_type": "code",
   "execution_count": null,
   "metadata": {},
   "outputs": [],
   "source": []
  }
 ],
 "metadata": {
  "kernelspec": {
   "display_name": "Python 3",
   "language": "python",
   "name": "python3"
  },
  "language_info": {
   "codemirror_mode": {
    "name": "ipython",
    "version": 3
   },
   "file_extension": ".py",
   "mimetype": "text/x-python",
   "name": "python",
   "nbconvert_exporter": "python",
   "pygments_lexer": "ipython3",
   "version": "3.6.6"
  }
 },
 "nbformat": 4,
 "nbformat_minor": 2
}
